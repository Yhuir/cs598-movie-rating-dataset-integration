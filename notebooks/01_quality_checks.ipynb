{
 "cells": [
  {
   "cell_type": "code",
   "execution_count": 5,
   "id": "4b11ce23",
   "metadata": {},
   "outputs": [
    {
     "name": "stdout",
     "output_type": "stream",
     "text": [
      "✅ Loaded TMDb and Rotten Tomatoes data successfully!\n"
     ]
    }
   ],
   "source": [
    "# --- 01_quality_checks.ipynb ---\n",
    "import pandas as pd\n",
    "\n",
    "tmdb = pd.read_csv(\"../data/raw/tmdb_movies_100.csv\")\n",
    "rt = pd.read_csv(\"../data/raw/rt_omdb_sample.csv\")\n",
    "\n",
    "print(\"✅ Loaded TMDb and Rotten Tomatoes data successfully!\")\n",
    "\n",
    "\n"
   ]
  },
  {
   "cell_type": "code",
   "execution_count": 7,
   "id": "507e6308",
   "metadata": {},
   "outputs": [
    {
     "name": "stdout",
     "output_type": "stream",
     "text": [
      "\n",
      "===== TMDb =====\n",
      "<class 'pandas.core.frame.DataFrame'>\n",
      "RangeIndex: 100 entries, 0 to 99\n",
      "Data columns (total 12 columns):\n",
      " #   Column          Non-Null Count  Dtype  \n",
      "---  ------          --------------  -----  \n",
      " 0   id              100 non-null    int64  \n",
      " 1   title           100 non-null    object \n",
      " 2   original_title  100 non-null    object \n",
      " 3   release_date    100 non-null    object \n",
      " 4   budget          100 non-null    int64  \n",
      " 5   revenue         100 non-null    float64\n",
      " 6   runtime         100 non-null    float64\n",
      " 7   genres          98 non-null     object \n",
      " 8   popularity      100 non-null    float64\n",
      " 9   release_year    100 non-null    int64  \n",
      " 10  cast_top3       15 non-null     object \n",
      " 11  director        5 non-null      object \n",
      "dtypes: float64(3), int64(3), object(6)\n",
      "memory usage: 9.5+ KB\n",
      "None\n",
      "\n",
      "Missing values per column:\n",
      "id                0.00\n",
      "title             0.00\n",
      "original_title    0.00\n",
      "release_date      0.00\n",
      "budget            0.00\n",
      "revenue           0.00\n",
      "runtime           0.00\n",
      "genres            0.02\n",
      "popularity        0.00\n",
      "release_year      0.00\n",
      "cast_top3         0.85\n",
      "director          0.95\n",
      "dtype: float64\n",
      "\n",
      "===== RottenTomatoes =====\n",
      "<class 'pandas.core.frame.DataFrame'>\n",
      "RangeIndex: 50 entries, 0 to 49\n",
      "Data columns (total 5 columns):\n",
      " #   Column       Non-Null Count  Dtype  \n",
      "---  ------       --------------  -----  \n",
      " 0   title        50 non-null     object \n",
      " 1   year         50 non-null     int64  \n",
      " 2   imdb_rating  50 non-null     float64\n",
      " 3   rt_score     46 non-null     object \n",
      " 4   metascore    33 non-null     float64\n",
      "dtypes: float64(2), int64(1), object(2)\n",
      "memory usage: 2.1+ KB\n",
      "None\n",
      "\n",
      "Missing values per column:\n",
      "title          0.00\n",
      "year           0.00\n",
      "imdb_rating    0.00\n",
      "rt_score       0.08\n",
      "metascore      0.34\n",
      "dtype: float64\n"
     ]
    }
   ],
   "source": [
    "for name, df in [(\"TMDb\", tmdb), (\"RottenTomatoes\", rt)]:\n",
    "    print(f\"\\n===== {name} =====\")\n",
    "    print(df.info())\n",
    "    print(\"\\nMissing values per column:\")\n",
    "    print(df.isna().mean().round(2))\n",
    "\n"
   ]
  },
  {
   "cell_type": "code",
   "execution_count": 9,
   "id": "ed1241c1",
   "metadata": {},
   "outputs": [
    {
     "data": {
      "text/html": [
       "<div>\n",
       "<style scoped>\n",
       "    .dataframe tbody tr th:only-of-type {\n",
       "        vertical-align: middle;\n",
       "    }\n",
       "\n",
       "    .dataframe tbody tr th {\n",
       "        vertical-align: top;\n",
       "    }\n",
       "\n",
       "    .dataframe thead th {\n",
       "        text-align: right;\n",
       "    }\n",
       "</style>\n",
       "<table border=\"1\" class=\"dataframe\">\n",
       "  <thead>\n",
       "    <tr style=\"text-align: right;\">\n",
       "      <th></th>\n",
       "      <th>title</th>\n",
       "      <th>year</th>\n",
       "      <th>imdb_rating</th>\n",
       "      <th>rt_score</th>\n",
       "      <th>metascore</th>\n",
       "    </tr>\n",
       "  </thead>\n",
       "  <tbody>\n",
       "    <tr>\n",
       "      <th>0</th>\n",
       "      <td>Toy Story</td>\n",
       "      <td>1995</td>\n",
       "      <td>8.3</td>\n",
       "      <td>100%</td>\n",
       "      <td>96.0</td>\n",
       "    </tr>\n",
       "    <tr>\n",
       "      <th>1</th>\n",
       "      <td>Jumanji</td>\n",
       "      <td>1995</td>\n",
       "      <td>7.1</td>\n",
       "      <td>53%</td>\n",
       "      <td>39.0</td>\n",
       "    </tr>\n",
       "    <tr>\n",
       "      <th>2</th>\n",
       "      <td>Grumpier Old Men</td>\n",
       "      <td>1995</td>\n",
       "      <td>6.7</td>\n",
       "      <td>20%</td>\n",
       "      <td>46.0</td>\n",
       "    </tr>\n",
       "    <tr>\n",
       "      <th>3</th>\n",
       "      <td>Waiting to Exhale</td>\n",
       "      <td>1995</td>\n",
       "      <td>6.0</td>\n",
       "      <td>56%</td>\n",
       "      <td>NaN</td>\n",
       "    </tr>\n",
       "    <tr>\n",
       "      <th>4</th>\n",
       "      <td>Father of the Bride Part II</td>\n",
       "      <td>1995</td>\n",
       "      <td>6.1</td>\n",
       "      <td>54%</td>\n",
       "      <td>49.0</td>\n",
       "    </tr>\n",
       "  </tbody>\n",
       "</table>\n",
       "</div>"
      ],
      "text/plain": [
       "                         title  year  imdb_rating rt_score  metascore\n",
       "0                    Toy Story  1995          8.3     100%       96.0\n",
       "1                      Jumanji  1995          7.1      53%       39.0\n",
       "2             Grumpier Old Men  1995          6.7      20%       46.0\n",
       "3            Waiting to Exhale  1995          6.0      56%        NaN\n",
       "4  Father of the Bride Part II  1995          6.1      54%       49.0"
      ]
     },
     "execution_count": 9,
     "metadata": {},
     "output_type": "execute_result"
    }
   ],
   "source": [
    "tmdb.head()\n",
    "rt.head()\n",
    "\n"
   ]
  },
  {
   "cell_type": "code",
   "execution_count": 10,
   "id": "e726e7fc",
   "metadata": {},
   "outputs": [
    {
     "name": "stdout",
     "output_type": "stream",
     "text": [
      "TMDb budget stats:\n",
      " count    1.000000e+02\n",
      "mean     1.494419e+07\n",
      "std      2.106925e+07\n",
      "min      0.000000e+00\n",
      "25%      0.000000e+00\n",
      "50%      3.250000e+06\n",
      "75%      2.000000e+07\n",
      "max      9.800000e+07\n",
      "Name: budget, dtype: float64\n",
      "RT score distribution:\n",
      " rt_score\n",
      "90%    2\n",
      "97%    2\n",
      "36%    2\n",
      "56%    2\n",
      "54%    2\n",
      "Name: count, dtype: int64\n",
      "TMDb duplicates: 0\n",
      "RT duplicates: 0\n",
      "✅ Saved summary to reports/quality_summary.md\n"
     ]
    }
   ],
   "source": [
    "# --- Quality checks summary (2 datasets only) ---\n",
    "\n",
    "print(\"TMDb budget stats:\\n\", tmdb[\"budget\"].describe())\n",
    "print(\"RT score distribution:\\n\", rt[\"rt_score\"].value_counts().head())\n",
    "\n",
    "for name, df in [(\"TMDb\", tmdb), (\"RT\", rt)]:\n",
    "    print(f\"{name} duplicates: {df.duplicated().sum()}\")\n",
    "\n",
    "summary_text = \"\"\"\n",
    "# Data Quality Summary\n",
    "\n",
    "## TMDb\n",
    "- {tmdb_rows} rows, {tmdb_cols} columns\n",
    "- Missing values: {tmdb_na:.2%}\n",
    "- Common issues: Some movies missing directors or cast.\n",
    "\n",
    "## Rotten Tomatoes (OMDb)\n",
    "- {rt_rows} rows, {rt_cols} columns\n",
    "- Missing values: {rt_na:.2%}\n",
    "- Notes: Many missing RT scores for older films.\n",
    "\"\"\".format(\n",
    "    tmdb_rows=tmdb.shape[0],\n",
    "    tmdb_cols=tmdb.shape[1],\n",
    "    tmdb_na=tmdb.isna().mean().mean(),\n",
    "    rt_rows=rt.shape[0],\n",
    "    rt_cols=rt.shape[1],\n",
    "    rt_na=rt.isna().mean().mean(),\n",
    ")\n",
    "\n",
    "with open(\"../reports/quality_summary.md\", \"w\") as f:\n",
    "    f.write(summary_text)\n",
    "\n",
    "print(\"✅ Saved summary to reports/quality_summary.md\")\n"
   ]
  },
  {
   "cell_type": "code",
   "execution_count": 3,
   "id": "d1344e9f",
   "metadata": {},
   "outputs": [
    {
     "name": "stdout",
     "output_type": "stream",
     "text": [
      "✅ Loaded link candidates\n",
      "   tmdb_id                   tmdb_title                     rt_title  rt_year  \\\n",
      "0      862                    Toy Story                    Toy Story     1995   \n",
      "1     8844                      Jumanji                      Jumanji     1995   \n",
      "2    15602             Grumpier Old Men             Grumpier Old Men     1995   \n",
      "3    31357            Waiting to Exhale            Waiting to Exhale     1995   \n",
      "4    11862  Father of the Bride Part II  Father of the Bride Part II     1995   \n",
      "\n",
      "   similarity  \n",
      "0         1.0  \n",
      "1         1.0  \n",
      "2         1.0  \n",
      "3         1.0  \n",
      "4         1.0  \n",
      "Total candidate matches: 46\n",
      "\n",
      "📊 Integration Metrics:\n",
      "- Total candidate matches: 46\n",
      "- High-confidence matches (≥0.9): 46\n",
      "- Average similarity: 1.0\n"
     ]
    }
   ],
   "source": [
    "\n",
    "import pandas as pd\n",
    "\n",
    "links = pd.read_csv(\"../data/intermediate/link_candidates.csv\")\n",
    "print(\"✅ Loaded link candidates\")\n",
    "print(links.head())\n",
    "print(f\"Total candidate matches: {len(links)}\")\n",
    "\n",
    "\n",
    "avg_similarity = links[\"similarity\"].mean().round(3)\n",
    "high_conf = links[links[\"similarity\"] >= 0.9]\n",
    "\n",
    "print(\"\\n📊 Integration Metrics:\")\n",
    "print(f\"- Total candidate matches: {len(links)}\")\n",
    "print(f\"- High-confidence matches (≥0.9): {len(high_conf)}\")\n",
    "print(f\"- Average similarity: {avg_similarity}\")\n",
    "\n"
   ]
  },
  {
   "cell_type": "code",
   "execution_count": 4,
   "id": "e1454b06",
   "metadata": {},
   "outputs": [
    {
     "name": "stdout",
     "output_type": "stream",
     "text": [
      "Rating coverage (TMDb + RT): 93.0%\n"
     ]
    }
   ],
   "source": [
    "tmdb = pd.read_csv(\"../data/raw/tmdb_movies_100.csv\")\n",
    "rt = pd.read_csv(\"../data/raw/rt_omdb_sample.csv\")\n",
    "\n",
    "merged = links.merge(tmdb, left_on=\"tmdb_title\", right_on=\"title\", how=\"left\") \\\n",
    "              .merge(rt, left_on=\"rt_title\", right_on=\"title\", how=\"left\", suffixes=(\"_tmdb\", \"_rt\"))\n",
    "\n",
    "rating_coverage = merged[\"rt_score\"].notna().mean().round(2) * 100\n",
    "print(f\"Rating coverage (TMDb + RT): {rating_coverage}%\")\n"
   ]
  },
  {
   "cell_type": "code",
   "execution_count": 6,
   "id": "5391f9ea",
   "metadata": {},
   "outputs": [
    {
     "name": "stdout",
     "output_type": "stream",
     "text": [
      "✅ Saved integration metrics to ../reports/integration_metrics.md\n"
     ]
    }
   ],
   "source": [
    "from pathlib import Path\n",
    "\n",
    "Path(\"../reports\").mkdir(exist_ok=True)\n",
    "\n",
    "report = f\"\"\"# Integration Metrics (Week 7–9)\n",
    "\n",
    "| Metric | Value |\n",
    "|---------|--------|\n",
    "| Candidate matches found | {len(links)} |\n",
    "| High-confidence matches (≥ 0.9) | {len(high_conf)} |\n",
    "| Avg. title similarity | {avg_similarity} |\n",
    "| Rating coverage (TMDb + RT) | {rating_coverage}% |\n",
    "| Notes | All 46 pairs are perfect title matches (1.0 similarity). Minor manual check confirms correctness. |\n",
    "\"\"\"\n",
    "\n",
    "with open(\"../reports/integration_metrics.md\", \"w\") as f:\n",
    "    f.write(report)\n",
    "\n",
    "print(\"✅ Saved integration metrics to ../reports/integration_metrics.md\")\n"
   ]
  }
 ],
 "metadata": {
  "kernelspec": {
   "display_name": ".venv",
   "language": "python",
   "name": "python3"
  },
  "language_info": {
   "codemirror_mode": {
    "name": "ipython",
    "version": 3
   },
   "file_extension": ".py",
   "mimetype": "text/x-python",
   "name": "python",
   "nbconvert_exporter": "python",
   "pygments_lexer": "ipython3",
   "version": "3.13.5"
  }
 },
 "nbformat": 4,
 "nbformat_minor": 5
}
